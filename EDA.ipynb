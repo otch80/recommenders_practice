{
 "cells": [
  {
   "cell_type": "code",
   "execution_count": 1,
   "id": "48be9bdc-513d-473f-9504-59dcff9b45f3",
   "metadata": {},
   "outputs": [],
   "source": [
    "from fast_ml.utilities import reduce_memory_usage\n",
    "import pandas as pd\n",
    "from datetime import timedelta, datetime\n",
    "from dateutil.relativedelta import relativedelta \n",
    "from tqdm import tqdm\n",
    "import matplotlib.pyplot as plt\n",
    "import pandas as pd\n",
    "import numpy as np\n",
    "import warnings\n",
    "warnings.filterwarnings(action='ignore')\n",
    "plt.rc('font', family='Malgun Gothic')\n",
    "# import pandas_profiling"
   ]
  },
  {
   "cell_type": "markdown",
   "id": "472d87c4-ee20-474c-9748-28454855bcbc",
   "metadata": {},
   "source": [
    "CLICKS DATASET FILE DESCRIPTION\n",
    "================================================================================\n",
    "아이템을 클릭했을 때 발생하는 로그  \n",
    "-Session ID : 사용자 세션 [중복허용]  \n",
    "-Timestamp : 아이템 클릭 시간  \n",
    "-Item ID : 클릭된 아이템 ID  \n",
    "-Category – 클릭된 아이템 카테고리  \n",
    "\"S\" : special offer (프로모션, 특별 주문)  \n",
    "\"0\" : missing value,   \n",
    "\"예) 1 ~ 12\" : 제품 카테고리  \n",
    "\n",
    "BUYS DATSET FILE DESCRIPTION\n",
    "================================================================================\n",
    "유저가 아이템을 구매했을 때 발생하는 로그  \n",
    "-Session ID : 사용자 세션 [중복허용]  \n",
    "-Timestamp : 아이템 구매 시간  \n",
    "-Item ID – 구매한 아이템 ID  \n",
    "-Price – 아이템 가격  \n",
    "-Quantity – 구매 수량  \n",
    "\n",
    "TEST DATASET FILE DESCRIPTION\n",
    "================================================================================\n",
    "The file yoochoose-test.dat comprising only clicks of users over items.  \n",
    "This file served as a test file in the RecSys challenge 2015.   \n",
    "The structure is identical to the file yoochoose-clicks.dat but you will not find the  \n",
    "corresponding buying events to these sessions in the yoochoose-buys.dat file.  "
   ]
  },
  {
   "cell_type": "code",
   "execution_count": 2,
   "id": "26fbd190-29b3-460a-8bd0-4fb4a791a68c",
   "metadata": {
    "tags": []
   },
   "outputs": [],
   "source": [
    "# buy_df = pd.read_csv(\"./dataset\\yoochoose-buys.dat\", \n",
    "#                      names=[\"session\", \"timestamp\", \"item\", \"price\", \"qty\"],\n",
    "#                      parse_dates=[\"timestamp\"]\n",
    "#                     )\n",
    "# buy_df = buy_df.sort_values(by=[\"timestamp\", \"session\"])\n",
    "# buy_df = buy_df.reset_index(drop=True)\n",
    "\n",
    "# click_df = pd.read_csv(\"./dataset\\yoochoose-clicks.dat\",\n",
    "#                      names=[\"session\", \"timestamp\", \"item\", \"category\"],\n",
    "#                      parse_dates=[\"timestamp\"],\n",
    "#                      converters={\"category\": lambda c: -1 if c == \"S\" else c})\n",
    "# click_df = click_df.sort_values(by=[\"timestamp\", \"session\"])\n",
    "# click_df = click_df.reset_index(drop=True)\n",
    "\n",
    "buy_df = pd.read_csv(\"./dataset\\yoochoose-buys.csv\")\n",
    "click_df = pd.read_csv(\"./dataset/yoochoose-clicks.csv\")\n",
    "\n",
    "buy_df[['session','item','price','qty']] = reduce_memory_usage(buy_df[['session','item','price','qty']], convert_to_category = False) # 데이터 프레임 메모리 사용 공간을 줄여줌\n",
    "click_df[['session','item','category']] = reduce_memory_usage(click_df[['session','item','category']], convert_to_category = False) # 데이터 프레임 메모리 사용 공간을 줄여줌"
   ]
  },
  {
   "cell_type": "code",
   "execution_count": 3,
   "id": "878e8be7-cbf9-4690-9f0a-6a9dbff6ef80",
   "metadata": {},
   "outputs": [
    {
     "name": "stderr",
     "output_type": "stream",
     "text": [
      "E:\\tool\\Anaconda\\lib\\site-packages\\IPython\\core\\interactiveshell.py:3165: DtypeWarning: Columns (3) have mixed types.Specify dtype option on import or set low_memory=False.\n",
      "  has_raised = await self.run_ast_nodes(code_ast.body, cell_name,\n"
     ]
    }
   ],
   "source": [
    "test_df = pd.read_csv(\"./dataset\\yoochoose-test.dat\",names=[\"session\", \"timestamp\", \"item\", \"category\"],\n",
    "                     parse_dates=[\"timestamp\"])"
   ]
  },
  {
   "cell_type": "code",
   "execution_count": 7,
   "id": "90b7d547-4993-42db-b741-5e63536dc648",
   "metadata": {},
   "outputs": [],
   "source": [
    "# buy_df.to_csv(\"./dataset\\yoochoose-buys.csv\",index=False,encoding='utf-8-sig')\n",
    "# click_df.to_csv(\"./dataset/yoochoose-clicks.csv\",index=False,encoding='utf-8-sig')"
   ]
  },
  {
   "cell_type": "code",
   "execution_count": 13,
   "id": "be916a46-4499-443b-9eae-c3d85c0000c9",
   "metadata": {},
   "outputs": [
    {
     "name": "stdout",
     "output_type": "stream",
     "text": [
      "[buy]\n",
      "shape : (1150753, 5)\n",
      "전체 데이터 수 : 1150753 / 사용자 수 : 509696\n"
     ]
    },
    {
     "data": {
      "text/html": [
       "<div>\n",
       "<style scoped>\n",
       "    .dataframe tbody tr th:only-of-type {\n",
       "        vertical-align: middle;\n",
       "    }\n",
       "\n",
       "    .dataframe tbody tr th {\n",
       "        vertical-align: top;\n",
       "    }\n",
       "\n",
       "    .dataframe thead th {\n",
       "        text-align: right;\n",
       "    }\n",
       "</style>\n",
       "<table border=\"1\" class=\"dataframe\">\n",
       "  <thead>\n",
       "    <tr style=\"text-align: right;\">\n",
       "      <th></th>\n",
       "      <th>session</th>\n",
       "      <th>timestamp</th>\n",
       "      <th>item</th>\n",
       "      <th>price</th>\n",
       "      <th>qty</th>\n",
       "    </tr>\n",
       "  </thead>\n",
       "  <tbody>\n",
       "    <tr>\n",
       "      <th>0</th>\n",
       "      <td>263073</td>\n",
       "      <td>2014-04-01 03:05:31.743000+00:00</td>\n",
       "      <td>214716982</td>\n",
       "      <td>2617</td>\n",
       "      <td>1</td>\n",
       "    </tr>\n",
       "    <tr>\n",
       "      <th>1</th>\n",
       "      <td>466654</td>\n",
       "      <td>2014-04-01 03:21:30.255000+00:00</td>\n",
       "      <td>214820812</td>\n",
       "      <td>313</td>\n",
       "      <td>1</td>\n",
       "    </tr>\n",
       "    <tr>\n",
       "      <th>2</th>\n",
       "      <td>466654</td>\n",
       "      <td>2014-04-01 03:21:30.271000+00:00</td>\n",
       "      <td>214584907</td>\n",
       "      <td>4711</td>\n",
       "      <td>1</td>\n",
       "    </tr>\n",
       "    <tr>\n",
       "      <th>3</th>\n",
       "      <td>185089</td>\n",
       "      <td>2014-04-01 03:29:09.230000+00:00</td>\n",
       "      <td>214819376</td>\n",
       "      <td>418</td>\n",
       "      <td>1</td>\n",
       "    </tr>\n",
       "    <tr>\n",
       "      <th>4</th>\n",
       "      <td>185089</td>\n",
       "      <td>2014-04-01 03:29:09.280000+00:00</td>\n",
       "      <td>214819430</td>\n",
       "      <td>418</td>\n",
       "      <td>1</td>\n",
       "    </tr>\n",
       "  </tbody>\n",
       "</table>\n",
       "</div>"
      ],
      "text/plain": [
       "   session                        timestamp       item  price  qty\n",
       "0   263073 2014-04-01 03:05:31.743000+00:00  214716982   2617    1\n",
       "1   466654 2014-04-01 03:21:30.255000+00:00  214820812    313    1\n",
       "2   466654 2014-04-01 03:21:30.271000+00:00  214584907   4711    1\n",
       "3   185089 2014-04-01 03:29:09.230000+00:00  214819376    418    1\n",
       "4   185089 2014-04-01 03:29:09.280000+00:00  214819430    418    1"
      ]
     },
     "execution_count": 13,
     "metadata": {},
     "output_type": "execute_result"
    }
   ],
   "source": [
    "print(\"[buy]\")\n",
    "print(f\"shape : {buy_df.shape}\")\n",
    "print(f\"전체 데이터 수 : {buy_df.shape[0]} / 사용자 수 : {buy_df.session.unique().shape[0]}\")\n",
    "buy_df.head()"
   ]
  },
  {
   "cell_type": "code",
   "execution_count": null,
   "id": "94b9153e-9b57-4b41-a414-84ff5e4cd746",
   "metadata": {},
   "outputs": [],
   "source": [
    "click_df = pd.read_csv(\"./dataset\\yoochoose-clicks.dat\",\n",
    "                     names=[\"session\", \"timestamp\", \"item\", \"category\"],\n",
    "                     parse_dates=[\"timestamp\"],\n",
    "                     converters={\"category\": lambda c: -1 if c == \"S\" else c})\n",
    "click_df = click_df.sort_values(by=[\"timestamp\", \"session\"])\n",
    "click_df = buy_df.reset_index(drop=True)"
   ]
  },
  {
   "cell_type": "code",
   "execution_count": null,
   "id": "8d02c6eb-67fb-4c13-a5d0-9571138c0185",
   "metadata": {},
   "outputs": [],
   "source": [
    "print(\"[clcik]\")\n",
    "print(f\"shape : {click_df.shape}\")\n",
    "print(f\"[click]\\n전체 데이터 수 : {click_df.shape[0]} / 사용자 수 : {click_df.session.unique().shape[0]}\")\n",
    "click_df.head()"
   ]
  },
  {
   "cell_type": "code",
   "execution_count": 11,
   "id": "c073c721-62fe-40e3-8b4f-53bc524522da",
   "metadata": {},
   "outputs": [
    {
     "name": "stdout",
     "output_type": "stream",
     "text": [
      "[test]\n",
      "shape : (8251791, 4)\n",
      "[test]\n",
      "전체 데이터 수 : 8251791 / 사용자 수 : 2312432\n"
     ]
    },
    {
     "data": {
      "text/html": [
       "<div>\n",
       "<style scoped>\n",
       "    .dataframe tbody tr th:only-of-type {\n",
       "        vertical-align: middle;\n",
       "    }\n",
       "\n",
       "    .dataframe tbody tr th {\n",
       "        vertical-align: top;\n",
       "    }\n",
       "\n",
       "    .dataframe thead th {\n",
       "        text-align: right;\n",
       "    }\n",
       "</style>\n",
       "<table border=\"1\" class=\"dataframe\">\n",
       "  <thead>\n",
       "    <tr style=\"text-align: right;\">\n",
       "      <th></th>\n",
       "      <th>session</th>\n",
       "      <th>timestamp</th>\n",
       "      <th>item</th>\n",
       "      <th>category</th>\n",
       "    </tr>\n",
       "  </thead>\n",
       "  <tbody>\n",
       "    <tr>\n",
       "      <th>0</th>\n",
       "      <td>5</td>\n",
       "      <td>2014-04-07 17:13:46.713000+00:00</td>\n",
       "      <td>214530776</td>\n",
       "      <td>0</td>\n",
       "    </tr>\n",
       "    <tr>\n",
       "      <th>1</th>\n",
       "      <td>5</td>\n",
       "      <td>2014-04-07 17:20:56.973000+00:00</td>\n",
       "      <td>214530776</td>\n",
       "      <td>0</td>\n",
       "    </tr>\n",
       "    <tr>\n",
       "      <th>2</th>\n",
       "      <td>5</td>\n",
       "      <td>2014-04-07 17:21:19.602000+00:00</td>\n",
       "      <td>214530776</td>\n",
       "      <td>0</td>\n",
       "    </tr>\n",
       "    <tr>\n",
       "      <th>3</th>\n",
       "      <td>10</td>\n",
       "      <td>2014-04-04 07:44:14.590000+00:00</td>\n",
       "      <td>214820942</td>\n",
       "      <td>0</td>\n",
       "    </tr>\n",
       "    <tr>\n",
       "      <th>4</th>\n",
       "      <td>10</td>\n",
       "      <td>2014-04-04 07:45:20.245000+00:00</td>\n",
       "      <td>214826810</td>\n",
       "      <td>0</td>\n",
       "    </tr>\n",
       "  </tbody>\n",
       "</table>\n",
       "</div>"
      ],
      "text/plain": [
       "   session                        timestamp       item category\n",
       "0        5 2014-04-07 17:13:46.713000+00:00  214530776        0\n",
       "1        5 2014-04-07 17:20:56.973000+00:00  214530776        0\n",
       "2        5 2014-04-07 17:21:19.602000+00:00  214530776        0\n",
       "3       10 2014-04-04 07:44:14.590000+00:00  214820942        0\n",
       "4       10 2014-04-04 07:45:20.245000+00:00  214826810        0"
      ]
     },
     "execution_count": 11,
     "metadata": {},
     "output_type": "execute_result"
    }
   ],
   "source": [
    "print(\"[test]\")\n",
    "print(f\"shape : {test_df.shape}\")\n",
    "print(f\"[test]\\n전체 데이터 수 : {test_df.shape[0]} / 사용자 수 : {test_df.session.unique().shape[0]}\")\n",
    "test_df.head()"
   ]
  },
  {
   "cell_type": "code",
   "execution_count": 101,
   "id": "363181bb-e4d9-432d-97c9-9ae443c75be4",
   "metadata": {},
   "outputs": [
    {
     "name": "stdout",
     "output_type": "stream",
     "text": [
      "[데이터 시간 분포]\n",
      "2014-04-01 03:05:31.743000+00:00 2014-09-30 02:35:12.859000+00:00\n",
      "2014-04-01 03:00:00.124000+00:00 2014-09-30 02:59:59.430000+00:00\n",
      "2014-04-01 03:00:08.250000+00:00 2014-09-30 02:59:23.866000+00:00\n"
     ]
    }
   ],
   "source": [
    "# 2014/04/01 ~ 2014/09/30\n",
    "print(\"[데이터 시간 분포]\")\n",
    "print(buy_df.timestamp.min(), buy_df.timestamp.max())\n",
    "print(click_df.timestamp.min(), click_df.timestamp.max())\n",
    "print(test_df.timestamp.min(), test_df.timestamp.max())"
   ]
  },
  {
   "cell_type": "code",
   "execution_count": 103,
   "id": "c6adf460-3f63-4553-9cc3-58d4c67a82b3",
   "metadata": {},
   "outputs": [
    {
     "name": "stdout",
     "output_type": "stream",
     "text": [
      "[buy, test 중복 확인]\n",
      "[Item]\n",
      "buy item 갯수 : 19949\n",
      "test item 갯수 : 42155\n",
      "중복 아이템 갯수 : 19485\n",
      "[SESSION]\n",
      "buy 사용자 수 : 509696\n",
      "test 사용자 수 : 2312432\n",
      "중복 사용자 수 : 0\n"
     ]
    }
   ],
   "source": [
    "print(f\"[buy, test 중복 확인]\")\n",
    "print(f\"[Item]\\nbuy item 갯수 : {buy_df.item.unique().shape[0]}\\ntest item 갯수 : {test_df.item.unique().shape[0]}\\n중복 아이템 갯수 : {len(set(buy_df.item) & set(test_df.item))}\")\n",
    "print(f\"[SESSION]\\nbuy 사용자 수 : {buy_df.session.unique().shape[0]}\\ntest 사용자 수 : {test_df.session.unique().shape[0]}\\n중복 사용자 수 : {len(set(buy_df.session) & set(test_df.session))}\")"
   ]
  },
  {
   "cell_type": "code",
   "execution_count": 104,
   "id": "d5497ad1-53fd-4767-b61f-af2c1b90a1eb",
   "metadata": {},
   "outputs": [
    {
     "name": "stdout",
     "output_type": "stream",
     "text": [
      "[click, test 중복 확인]\n",
      "[Item]\n",
      "click item 갯수 : 52739\n",
      "test item 갯수 : 42155\n",
      "중복 아이템 갯수 : 40607\n",
      "[SESSION]\n",
      "click 사용자 수 : 9249729\n",
      "test 사용자 수 : 2312432\n",
      "중복 사용자 수 : 0\n"
     ]
    }
   ],
   "source": [
    "print(f\"[click, test 중복 확인]\")\n",
    "print(f\"[Item]\\nclick item 갯수 : {click_df.item.unique().shape[0]}\\ntest item 갯수 : {test_df.item.unique().shape[0]}\\n중복 아이템 갯수 : {len(set(click_df.item) & set(test_df.item))}\")\n",
    "print(f\"[SESSION]\\nclick 사용자 수 : {click_df.session.unique().shape[0]}\\ntest 사용자 수 : {test_df.session.unique().shape[0]}\\n중복 사용자 수 : {len(set(click_df.session) & set(test_df.session))}\")"
   ]
  },
  {
   "cell_type": "code",
   "execution_count": 104,
   "id": "09192ddd-ccc1-41eb-b29d-ad246cd7e87a",
   "metadata": {},
   "outputs": [
    {
     "name": "stdout",
     "output_type": "stream",
     "text": [
      "[click, test 중복 확인]\n",
      "[Item]\n",
      "click item 갯수 : 52739\n",
      "test item 갯수 : 42155\n",
      "중복 아이템 갯수 : 40607\n",
      "[SESSION]\n",
      "click 사용자 수 : 9249729\n",
      "test 사용자 수 : 2312432\n",
      "중복 사용자 수 : 0\n"
     ]
    }
   ],
   "source": [
    "print(f\"[click, test 중복 확인]\")\n",
    "print(f\"[Item]\\nclick item 갯수 : {click_df.item.unique().shape[0]}\\ntest item 갯수 : {test_df.item.unique().shape[0]}\\n중복 아이템 갯수 : {len(set(click_df.item) & set(test_df.item))}\")\n",
    "print(f\"[SESSION]\\nclick 사용자 수 : {click_df.session.unique().shape[0]}\\ntest 사용자 수 : {test_df.session.unique().shape[0]}\\n중복 사용자 수 : {len(set(click_df.session) & set(test_df.session))}\")"
   ]
  },
  {
   "cell_type": "code",
   "execution_count": 106,
   "id": "728226d1-ed9e-4cbe-b956-9ea2202dae2f",
   "metadata": {},
   "outputs": [
    {
     "name": "stdout",
     "output_type": "stream",
     "text": [
      "[buy, click, test 중복 확인]\n",
      "[Item]\n",
      "중복 아이템 갯수 : 19485\n",
      "[SESSION]\n",
      "중복 사용자 수 : 0\n"
     ]
    }
   ],
   "source": [
    "print(f\"[buy, click, test 중복 확인]\")\n",
    "print(f\"[Item]\\n중복 아이템 갯수 : {len(set(buy_df.item) & set(click_df.item) & set(test_df.item))}\")\n",
    "print(f\"[SESSION]\\n중복 사용자 수 : {len(set(buy_df.session) & set(click_df.session) & set(test_df.session))}\")"
   ]
  },
  {
   "cell_type": "code",
   "execution_count": 5,
   "id": "0ea49254-2313-4685-aacf-c308c83c7d3c",
   "metadata": {},
   "outputs": [
    {
     "data": {
      "text/html": [
       "<div>\n",
       "<style scoped>\n",
       "    .dataframe tbody tr th:only-of-type {\n",
       "        vertical-align: middle;\n",
       "    }\n",
       "\n",
       "    .dataframe tbody tr th {\n",
       "        vertical-align: top;\n",
       "    }\n",
       "\n",
       "    .dataframe thead th {\n",
       "        text-align: right;\n",
       "    }\n",
       "</style>\n",
       "<table border=\"1\" class=\"dataframe\">\n",
       "  <thead>\n",
       "    <tr style=\"text-align: right;\">\n",
       "      <th></th>\n",
       "      <th>session</th>\n",
       "      <th>timestamp</th>\n",
       "      <th>item</th>\n",
       "      <th>price</th>\n",
       "      <th>qty</th>\n",
       "    </tr>\n",
       "  </thead>\n",
       "  <tbody>\n",
       "    <tr>\n",
       "      <th>0</th>\n",
       "      <td>263073</td>\n",
       "      <td>2014-04-01 03:05:31.743000+00:00</td>\n",
       "      <td>214716982</td>\n",
       "      <td>2617</td>\n",
       "      <td>1</td>\n",
       "    </tr>\n",
       "    <tr>\n",
       "      <th>44</th>\n",
       "      <td>324737</td>\n",
       "      <td>2014-04-01 04:29:24.164000+00:00</td>\n",
       "      <td>214716982</td>\n",
       "      <td>2303</td>\n",
       "      <td>1</td>\n",
       "    </tr>\n",
       "    <tr>\n",
       "      <th>45</th>\n",
       "      <td>324737</td>\n",
       "      <td>2014-04-01 04:29:24.173000+00:00</td>\n",
       "      <td>214716982</td>\n",
       "      <td>2617</td>\n",
       "      <td>1</td>\n",
       "    </tr>\n",
       "    <tr>\n",
       "      <th>76</th>\n",
       "      <td>129948</td>\n",
       "      <td>2014-04-01 05:04:49.947000+00:00</td>\n",
       "      <td>214716982</td>\n",
       "      <td>2617</td>\n",
       "      <td>2</td>\n",
       "    </tr>\n",
       "    <tr>\n",
       "      <th>101</th>\n",
       "      <td>262096</td>\n",
       "      <td>2014-04-01 05:25:22.684000+00:00</td>\n",
       "      <td>214716982</td>\n",
       "      <td>1883</td>\n",
       "      <td>1</td>\n",
       "    </tr>\n",
       "    <tr>\n",
       "      <th>...</th>\n",
       "      <td>...</td>\n",
       "      <td>...</td>\n",
       "      <td>...</td>\n",
       "      <td>...</td>\n",
       "      <td>...</td>\n",
       "    </tr>\n",
       "    <tr>\n",
       "      <th>1131473</th>\n",
       "      <td>11339002</td>\n",
       "      <td>2014-09-25 07:20:17.822000+00:00</td>\n",
       "      <td>214716982</td>\n",
       "      <td>2303</td>\n",
       "      <td>2</td>\n",
       "    </tr>\n",
       "    <tr>\n",
       "      <th>1131865</th>\n",
       "      <td>11272489</td>\n",
       "      <td>2014-09-25 08:04:45.600000+00:00</td>\n",
       "      <td>214716982</td>\n",
       "      <td>3141</td>\n",
       "      <td>4</td>\n",
       "    </tr>\n",
       "    <tr>\n",
       "      <th>1134513</th>\n",
       "      <td>11423583</td>\n",
       "      <td>2014-09-25 13:39:26.073000+00:00</td>\n",
       "      <td>214716982</td>\n",
       "      <td>2093</td>\n",
       "      <td>2</td>\n",
       "    </tr>\n",
       "    <tr>\n",
       "      <th>1135710</th>\n",
       "      <td>11399089</td>\n",
       "      <td>2014-09-25 16:43:41.332000+00:00</td>\n",
       "      <td>214716982</td>\n",
       "      <td>3455</td>\n",
       "      <td>2</td>\n",
       "    </tr>\n",
       "    <tr>\n",
       "      <th>1138497</th>\n",
       "      <td>11272231</td>\n",
       "      <td>2014-09-26 07:02:34.196000+00:00</td>\n",
       "      <td>214716982</td>\n",
       "      <td>3978</td>\n",
       "      <td>1</td>\n",
       "    </tr>\n",
       "  </tbody>\n",
       "</table>\n",
       "<p>1491 rows × 5 columns</p>\n",
       "</div>"
      ],
      "text/plain": [
       "          session                        timestamp       item  price  qty\n",
       "0          263073 2014-04-01 03:05:31.743000+00:00  214716982   2617    1\n",
       "44         324737 2014-04-01 04:29:24.164000+00:00  214716982   2303    1\n",
       "45         324737 2014-04-01 04:29:24.173000+00:00  214716982   2617    1\n",
       "76         129948 2014-04-01 05:04:49.947000+00:00  214716982   2617    2\n",
       "101        262096 2014-04-01 05:25:22.684000+00:00  214716982   1883    1\n",
       "...           ...                              ...        ...    ...  ...\n",
       "1131473  11339002 2014-09-25 07:20:17.822000+00:00  214716982   2303    2\n",
       "1131865  11272489 2014-09-25 08:04:45.600000+00:00  214716982   3141    4\n",
       "1134513  11423583 2014-09-25 13:39:26.073000+00:00  214716982   2093    2\n",
       "1135710  11399089 2014-09-25 16:43:41.332000+00:00  214716982   3455    2\n",
       "1138497  11272231 2014-09-26 07:02:34.196000+00:00  214716982   3978    1\n",
       "\n",
       "[1491 rows x 5 columns]"
      ]
     },
     "execution_count": 5,
     "metadata": {},
     "output_type": "execute_result"
    }
   ],
   "source": [
    "click_df.loc[click_df['item']==214716982]"
   ]
  },
  {
   "cell_type": "markdown",
   "id": "68f05cc9-4805-439b-80a8-cb2a5c34d0d3",
   "metadata": {},
   "source": [
    "# 논문 분석 검증"
   ]
  },
  {
   "cell_type": "markdown",
   "id": "ab5e145f-faab-4fb9-a4d9-b9aa9b6df462",
   "metadata": {},
   "source": [
    "## 시간에 따른 구매율 변화량\n",
    "We define a buying rate as the fraction of buyer sessions in some subset of sessions  \n",
    "해당 날에 기록된 모든 세션 중 실제 구매를 한 세션 비율"
   ]
  },
  {
   "cell_type": "code",
   "execution_count": 177,
   "id": "fbaa85e0-7f22-4620-8dc3-1ab4c5c0beb4",
   "metadata": {},
   "outputs": [],
   "source": [
    "# 일자별 구매수\n",
    "buy_df['date'] = buy_df.timestamp.astype('str').apply(lambda x: x.split(\" \")[0]).apply(lambda x:x.split('2014-')[1])\n",
    "buy_cnt_per_day = {}\n",
    "for date, sessions in buy_df.groupby('date').session:\n",
    "    buy_cnt_per_day[date] = len(sessions.unique()) # 해당일에 구매한 세션 수\n",
    "    \n",
    "date_buy_df = pd.DataFrame.from_dict(buy_cnt_per_day,orient='index').reset_index()\n",
    "date_buy_df.columns = ['date','buy_count']"
   ]
  },
  {
   "cell_type": "code",
   "execution_count": 109,
   "id": "389ec0af-0660-44ab-872a-96a6ae16cf21",
   "metadata": {},
   "outputs": [],
   "source": [
    "# 일자별 클릭수\n",
    "click_df['date'] = click_df.timestamp.astype('str').apply(lambda x: x.split(\" \")[0]).apply(lambda x:x.split('2014-')[1])\n",
    "click_cnt_per_day = {}\n",
    "for date, sessions in click_df.groupby('date').session:\n",
    "    click_cnt_per_day[date] = len(sessions.unique()) # 해당일에 구매한 세션 수\n",
    "    \n",
    "date_click_df = pd.DataFrame.from_dict(click_cnt_per_day,orient='index').reset_index()\n",
    "date_click_df.columns = ['date','click_count']"
   ]
  },
  {
   "cell_type": "code",
   "execution_count": 196,
   "id": "df6ca186-0c11-46fa-a155-65e21c60ef56",
   "metadata": {
    "tags": []
   },
   "outputs": [],
   "source": [
    "# 일자별 구매율\n",
    "click_buy_df.date = click_buy_df.date.apply(lambda x: x.replace(\"-\",\"/\"))\n",
    "click_buy_df_per_date = pd.merge(date_buy_df,date_click_df)\n",
    "click_buy_df_per_date['buy_rate'] = click_buy_df.buy_count / click_buy_df.click_count"
   ]
  },
  {
   "cell_type": "code",
   "execution_count": 197,
   "id": "a0d3c276-8c30-4491-98b8-b92ca6eb7ddc",
   "metadata": {},
   "outputs": [
    {
     "data": {
      "image/png": "[encoded data removed]",
      "text/plain": [
       "<Figure size 432x288 with 1 Axes>"
      ]
     },
     "metadata": {
      "needs_background": "light"
     },
     "output_type": "display_data"
    }
   ],
   "source": [
    "ax = click_buy_df_per_date.plot(x='date',y='buy_rate',legend=None,title=\"날짜별 구매 횟수\", grid=True, linewidth=2)\n",
    "ax.set_xlabel(\"day\")\n",
    "ax.set_ylabel(\"buying rate\")\n",
    "plt.show()\n",
    "\n",
    "### 논문에서 소개한 그래프와 일치"
   ]
  },
  {
   "cell_type": "markdown",
   "id": "4c65e9b9-8fee-48b6-9fed-68ccab8e7b64",
   "metadata": {},
   "source": [
    "### 논문과 그래프가 일치하지 않음"
   ]
  },
  {
   "cell_type": "code",
   "execution_count": 27,
   "id": "90f2ccc9-6d47-4ddb-a5f0-5949a1eb4b1f",
   "metadata": {},
   "outputs": [],
   "source": [
    "# 시간대별 구매수\n",
    "buy_df['hour'] = buy_df.timestamp.apply(lambda x:x.hour)\n",
    "buy_cnt_per_hour = {}\n",
    "for hour, sessions in buy_df.groupby('hour').session:\n",
    "    buy_cnt_per_hour[hour] = len(sessions.unique()) # 해당시간에 구매한 세션 수\n",
    "    \n",
    "hour_buy_df = pd.DataFrame.from_dict(buy_cnt_per_hour,orient='index').reset_index()\n",
    "hour_buy_df.columns = ['hour','buy_count']"
   ]
  },
  {
   "cell_type": "code",
   "execution_count": 28,
   "id": "b24ae151-670d-4de3-9884-af866ddd6e86",
   "metadata": {},
   "outputs": [],
   "source": [
    "# 시간대별 클릭수\n",
    "click_df['hour'] = click_df.timestamp.apply(lambda x:x.hour)\n",
    "click_cnt_per_hour = {}\n",
    "for hour, sessions in click_df.groupby('hour').session:\n",
    "    click_cnt_per_hour[hour] = len(sessions.unique()) # 해당일에 구매한 세션 수\n",
    "    \n",
    "hour_click_df = pd.DataFrame.from_dict(click_cnt_per_hour,orient='index').reset_index()\n",
    "hour_click_df.columns = ['hour','click_count']"
   ]
  },
  {
   "cell_type": "code",
   "execution_count": 29,
   "id": "93ac2dc3-4fb9-400b-8c75-b26deb9ff8d3",
   "metadata": {},
   "outputs": [],
   "source": [
    "# 시간대별 구매율\n",
    "click_buy_per_hour = pd.merge(hour_buy_df,hour_click_df)\n",
    "click_buy_per_hour['buy_rate'] = click_buy_per_hour.buy_count / click_buy_per_hour.click_count"
   ]
  },
  {
   "cell_type": "code",
   "execution_count": 30,
   "id": "67389b8e-9927-4845-9525-051a629c0377",
   "metadata": {},
   "outputs": [
    {
     "data": {
      "image/png": "[encoded data removed]",
      "text/plain": [
       "<Figure size 432x288 with 1 Axes>"
      ]
     },
     "metadata": {
      "needs_background": "light"
     },
     "output_type": "display_data"
    }
   ],
   "source": [
    "ax = click_buy_per_hour.plot.bar(x='hour',y='buy_rate',legend=None,title=\"시간대별 구매율 변화량\")\n",
    "ax.set_xlabel(\"hour of day\")\n",
    "ax.set_ylabel(\"buying rate\")\n",
    "plt.show()"
   ]
  },
  {
   "cell_type": "markdown",
   "id": "d634a6e8-6d9b-4483-ac6e-e1b9d5b2a9b7",
   "metadata": {},
   "source": [
    "### 시간대별 구매율 (개인 추가)"
   ]
  },
  {
   "cell_type": "code",
   "execution_count": 33,
   "id": "b46171e9-cf99-41a1-9d50-6031d9fa9fcc",
   "metadata": {},
   "outputs": [],
   "source": [
    "# 시간대별 클릭률\n",
    "click_buy_per_hour['click_rate'] = click_buy_per_hour.click_count / sum(click_buy_per_hour.click_count)"
   ]
  },
  {
   "cell_type": "code",
   "execution_count": 36,
   "id": "2d9940b9-74d9-4d8c-bdd5-be4a5c23dddd",
   "metadata": {},
   "outputs": [
    {
     "data": {
      "image/png": "[encoded data removed]",
      "text/plain": [
       "<Figure size 432x288 with 1 Axes>"
      ]
     },
     "metadata": {
      "needs_background": "light"
     },
     "output_type": "display_data"
    }
   ],
   "source": [
    "ax = click_buy_per_hour.plot.bar(x='hour',y='click_rate',legend=None,title=\"시간대별 클릭 변화량\", rot=0)\n",
    "ax.set_xlabel(\"hour of day\")\n",
    "ax.set_ylabel(\"click rate\")\n",
    "plt.show()\n",
    "## 논문에서 소개된 시간대별 구매율과 동일하게 시가낻별 클릭율도 구매율과 유사한 경향을 나타냄을 알 수 있음"
   ]
  },
  {
   "cell_type": "markdown",
   "id": "9b3c1a98-c721-47e9-9118-870ce00db8a3",
   "metadata": {},
   "source": [
    "## 요일별 구매율 변화량"
   ]
  },
  {
   "cell_type": "code",
   "execution_count": 3,
   "id": "84c9e406-e8c9-4563-a238-82fc41e5430e",
   "metadata": {},
   "outputs": [],
   "source": [
    "# click_df['weekday'] = click_df.timestamp.apply(datetime.weekday)"
   ]
  },
  {
   "cell_type": "code",
   "execution_count": 6,
   "id": "52c6ee14-0299-4cc5-89cc-ede036b092b5",
   "metadata": {},
   "outputs": [],
   "source": [
    "# buy_df['weekday'] = buy_df.timestamp.apply(datetime.weekday)"
   ]
  },
  {
   "cell_type": "code",
   "execution_count": 8,
   "id": "b3e3f2e0-a772-4e41-980b-53696766c707",
   "metadata": {},
   "outputs": [],
   "source": [
    "# 요일별 구매수\n",
    "# buy_df['weekday'] = buy_df.timestamp.apply(datetime.weekday)\n",
    "buy_cnt_per_weekday = {}\n",
    "for weekday, sessions in buy_df.groupby('weekday').session:\n",
    "    buy_cnt_per_weekday[weekday] = len(sessions.unique()) # 해당일에 구매한 세션 수\n",
    "    \n",
    "weekday_buy_df = pd.DataFrame.from_dict(buy_cnt_per_weekday,orient='index').reset_index()\n",
    "weekday_buy_df.columns = ['weekday','buy_count']"
   ]
  },
  {
   "cell_type": "code",
   "execution_count": 10,
   "id": "0136b6da-7655-43f4-9161-c782d3a4d51f",
   "metadata": {},
   "outputs": [],
   "source": [
    "# 요일별 클릭수\n",
    "# click_df['weekday'] = click_df.timestamp.apply(datetime.weekday)\n",
    "click_cnt_per_weekday = {}\n",
    "for weekday, sessions in click_df.groupby('weekday').session:\n",
    "    click_cnt_per_weekday[weekday] = len(sessions.unique()) # 해당일에 구매한 세션 수\n",
    "    \n",
    "weekday_click_df = pd.DataFrame.from_dict(click_cnt_per_weekday,orient='index').reset_index()\n",
    "weekday_click_df.columns = ['weekday','click_count']"
   ]
  },
  {
   "cell_type": "code",
   "execution_count": 16,
   "id": "6f75fb42-2f1b-43e1-9114-2a5fe4834b17",
   "metadata": {},
   "outputs": [],
   "source": [
    "# 요일별 구매율\n",
    "click_buy_per_weekday = pd.merge(weekday_buy_df,weekday_click_df)\n",
    "click_buy_per_weekday['buy_rate'] = click_buy_per_weekday.buy_count / click_buy_per_weekday.click_count"
   ]
  },
  {
   "cell_type": "code",
   "execution_count": 18,
   "id": "758d1661-e6c3-4b2b-8855-0e41d8948577",
   "metadata": {},
   "outputs": [
    {
     "data": {
      "image/png": "[encoded data removed]",
      "text/plain": [
       "<Figure size 432x288 with 1 Axes>"
      ]
     },
     "metadata": {
      "needs_background": "light"
     },
     "output_type": "display_data"
    }
   ],
   "source": [
    "ax = click_buy_per_weekday.plot.bar(x='weekday',y='buy_rate',legend=None,title=\"요일별 구매율 변화량\", rot=0)\n",
    "ax.set_xlabel(\"weekday\")\n",
    "ax.set_ylabel(\"click rate\")\n",
    "plt.show()\n",
    "# 논문과 동일"
   ]
  },
  {
   "cell_type": "markdown",
   "id": "674496f3-4a67-451e-9380-13ee263fc199",
   "metadata": {},
   "source": [
    "## 클릭수에 따른 구매율 변화량\n",
    "- buying rate 계산법이 다를것으로 추정, y축 값이 타 그래프 대비 높아서 click 당 구매여부로 가야할 듯"
   ]
  },
  {
   "cell_type": "markdown",
   "id": "4590c103-6ec0-4a78-8003-394ff8baec77",
   "metadata": {},
   "source": [
    "### 각 세션당 클릭수 및 구매율"
   ]
  },
  {
   "cell_type": "code",
   "execution_count": 30,
   "id": "fb01244c-9b1f-4e39-a45e-930e3a702fd5",
   "metadata": {},
   "outputs": [
    {
     "name": "stderr",
     "output_type": "stream",
     "text": [
      "100%|█████████████████████████████████████████| 9249729/9249729 [00:07<00:00, 1203029.59it/s]\n"
     ]
    }
   ],
   "source": [
    "session_click_cnt = click_df.groupby('session').item.count().to_dict()\n",
    "session_buy_cnt = buy_df.groupby('session').item.count().to_dict()\n",
    "session_buy_rate = {}\n",
    "\n",
    "for session, click_count in tqdm(session_click_cnt.items()):\n",
    "    try:\n",
    "        if (session_buy_cnt[session] != 0):\n",
    "            session_buy_rate[session] = True\n",
    "        else:\n",
    "            session_buy_rate[session] = False\n",
    "    except:\n",
    "        session_buy_rate[session] = False"
   ]
  },
  {
   "cell_type": "code",
   "execution_count": 31,
   "id": "4d2639eb-98fc-4c91-9e44-15ccd5eb7784",
   "metadata": {},
   "outputs": [
    {
     "name": "stderr",
     "output_type": "stream",
     "text": [
      "100%|██████████████████████████████████████████| 9249729/9249729 [00:09<00:00, 955225.18it/s]\n"
     ]
    }
   ],
   "source": [
    "session_click_buy_rate = []\n",
    "for session, click_cnt in tqdm(session_click_cnt.items()):\n",
    "    temp = [click_cnt,session_buy_rate[session]]\n",
    "    session_click_buy_rate.append(temp)"
   ]
  },
  {
   "cell_type": "code",
   "execution_count": 32,
   "id": "9ccebcfa-1ebd-4f70-bb0c-9e29b80a0f92",
   "metadata": {
    "tags": []
   },
   "outputs": [],
   "source": [
    "click_buy_per_session = pd.DataFrame(session_click_buy_rate,columns=['click','buy'])"
   ]
  },
  {
   "cell_type": "code",
   "execution_count": 46,
   "id": "c8de9f2d-9ab3-4b3d-87fc-db07d738f4d4",
   "metadata": {},
   "outputs": [
    {
     "name": "stderr",
     "output_type": "stream",
     "text": [
      "100%|█████████████████████████████████████████████████████| 188/188 [00:00<00:00, 262.57it/s]\n"
     ]
    }
   ],
   "source": [
    "click_cnt_buy_rate = {}\n",
    "for click, g in tqdm(click_buy_per_session.groupby('click')):\n",
    "    try:\n",
    "        click_cnt_buy_rate[click] = g.buy.value_counts()[True] / g.buy.count()\n",
    "    except:\n",
    "        click_cnt_buy_rate[click] = 0"
   ]
  },
  {
   "cell_type": "code",
   "execution_count": 82,
   "id": "968e0aab-f8d0-4018-a730-fbfb85733e49",
   "metadata": {},
   "outputs": [
    {
     "data": {
      "image/png": "[encoded data removed]",
      "text/plain": [
       "<Figure size 432x288 with 1 Axes>"
      ]
     },
     "metadata": {
      "needs_background": "light"
     },
     "output_type": "display_data"
    }
   ],
   "source": [
    "click_cnt_buy_rate_df = pd.DataFrame.from_dict(click_cnt_buy_rate,orient='index').reset_index()\n",
    "click_cnt_buy_rate_df.columns = ['click_cnt','buy_rate']\n",
    "ax = click_cnt_buy_rate_df.loc[click_cnt_buy_rate_df.click_cnt <= 20].plot(x='click_cnt',y='buy_rate',legend=None)\n",
    "ax.set_xlim([0,20])\n",
    "ax.set_ylabel('buying rate')\n",
    "plt.show()"
   ]
  },
  {
   "cell_type": "code",
   "execution_count": 83,
   "id": "fcdb9155-39eb-42e2-8f1e-636beffe3498",
   "metadata": {},
   "outputs": [
    {
     "data": {
      "image/png": "[encoded data removed]",
      "text/plain": [
       "<Figure size 432x288 with 1 Axes>"
      ]
     },
     "metadata": {
      "needs_background": "light"
     },
     "output_type": "display_data"
    }
   ],
   "source": [
    "ax = click_cnt_buy_rate_df.plot(x='click_cnt',y='buy_rate',legend=None)\n",
    "ax.set_ylabel('buying rate')\n",
    "plt.show()\n",
    "### 20정도까지는 비례하지만 그 이후부터는 정비례하지 않음"
   ]
  },
  {
   "cell_type": "markdown",
   "id": "4d0bd9d1-5fa4-4869-8359-0108ec926a33",
   "metadata": {},
   "source": [
    "## 최빈 아이템"
   ]
  },
  {
   "cell_type": "markdown",
   "id": "0954950e-e466-4db1-8783-069642aecacd",
   "metadata": {},
   "source": [
    "# 특이사항\n",
    "기존 로그인으로 탐색을 한 후, 재로그인을 통해 장바구니에 담긴 물건을 일제히 구매하는 상황이 있어 buying rate가 1이상 나오는 경우가 존재"
   ]
  },
  {
   "cell_type": "code",
   "execution_count": 28,
   "id": "1db9beb4-8d77-4b62-b649-476634e3e4dd",
   "metadata": {},
   "outputs": [
    {
     "data": {
      "text/html": [
       "<div>\n",
       "<style scoped>\n",
       "    .dataframe tbody tr th:only-of-type {\n",
       "        vertical-align: middle;\n",
       "    }\n",
       "\n",
       "    .dataframe tbody tr th {\n",
       "        vertical-align: top;\n",
       "    }\n",
       "\n",
       "    .dataframe thead th {\n",
       "        text-align: right;\n",
       "    }\n",
       "</style>\n",
       "<table border=\"1\" class=\"dataframe\">\n",
       "  <thead>\n",
       "    <tr style=\"text-align: right;\">\n",
       "      <th></th>\n",
       "      <th>session</th>\n",
       "      <th>timestamp</th>\n",
       "      <th>item</th>\n",
       "      <th>category</th>\n",
       "      <th>weekday</th>\n",
       "    </tr>\n",
       "  </thead>\n",
       "  <tbody>\n",
       "    <tr>\n",
       "      <th>299188</th>\n",
       "      <td>428198</td>\n",
       "      <td>2014-04-02 14:20:37.301000+00:00</td>\n",
       "      <td>214716937</td>\n",
       "      <td>0</td>\n",
       "      <td>2</td>\n",
       "    </tr>\n",
       "    <tr>\n",
       "      <th>299293</th>\n",
       "      <td>428198</td>\n",
       "      <td>2014-04-02 14:21:10.754000+00:00</td>\n",
       "      <td>214716937</td>\n",
       "      <td>0</td>\n",
       "      <td>2</td>\n",
       "    </tr>\n",
       "    <tr>\n",
       "      <th>299924</th>\n",
       "      <td>428198</td>\n",
       "      <td>2014-04-02 14:24:30.584000+00:00</td>\n",
       "      <td>214716971</td>\n",
       "      <td>0</td>\n",
       "      <td>2</td>\n",
       "    </tr>\n",
       "    <tr>\n",
       "      <th>299983</th>\n",
       "      <td>428198</td>\n",
       "      <td>2014-04-02 14:24:45.838000+00:00</td>\n",
       "      <td>214716971</td>\n",
       "      <td>0</td>\n",
       "      <td>2</td>\n",
       "    </tr>\n",
       "  </tbody>\n",
       "</table>\n",
       "</div>"
      ],
      "text/plain": [
       "        session                         timestamp       item  category  \\\n",
       "299188   428198  2014-04-02 14:20:37.301000+00:00  214716937         0   \n",
       "299293   428198  2014-04-02 14:21:10.754000+00:00  214716937         0   \n",
       "299924   428198  2014-04-02 14:24:30.584000+00:00  214716971         0   \n",
       "299983   428198  2014-04-02 14:24:45.838000+00:00  214716971         0   \n",
       "\n",
       "        weekday  \n",
       "299188        2  \n",
       "299293        2  \n",
       "299924        2  \n",
       "299983        2  "
      ]
     },
     "execution_count": 28,
     "metadata": {},
     "output_type": "execute_result"
    }
   ],
   "source": [
    "click_df.loc[click_df.session==428198]"
   ]
  },
  {
   "cell_type": "code",
   "execution_count": 29,
   "id": "0a649309-ac2f-4c4a-ba00-0a264e5459af",
   "metadata": {},
   "outputs": [
    {
     "data": {
      "text/html": [
       "<div>\n",
       "<style scoped>\n",
       "    .dataframe tbody tr th:only-of-type {\n",
       "        vertical-align: middle;\n",
       "    }\n",
       "\n",
       "    .dataframe tbody tr th {\n",
       "        vertical-align: top;\n",
       "    }\n",
       "\n",
       "    .dataframe thead th {\n",
       "        text-align: right;\n",
       "    }\n",
       "</style>\n",
       "<table border=\"1\" class=\"dataframe\">\n",
       "  <thead>\n",
       "    <tr style=\"text-align: right;\">\n",
       "      <th></th>\n",
       "      <th>session</th>\n",
       "      <th>timestamp</th>\n",
       "      <th>item</th>\n",
       "      <th>price</th>\n",
       "      <th>qty</th>\n",
       "      <th>weekday</th>\n",
       "    </tr>\n",
       "  </thead>\n",
       "  <tbody>\n",
       "    <tr>\n",
       "      <th>9018</th>\n",
       "      <td>428198</td>\n",
       "      <td>2014-04-02 14:35:51.073000+00:00</td>\n",
       "      <td>214716937</td>\n",
       "      <td>1360</td>\n",
       "      <td>1</td>\n",
       "      <td>2</td>\n",
       "    </tr>\n",
       "    <tr>\n",
       "      <th>9019</th>\n",
       "      <td>428198</td>\n",
       "      <td>2014-04-02 14:35:51.095000+00:00</td>\n",
       "      <td>214716971</td>\n",
       "      <td>2198</td>\n",
       "      <td>2</td>\n",
       "      <td>2</td>\n",
       "    </tr>\n",
       "    <tr>\n",
       "      <th>9020</th>\n",
       "      <td>428198</td>\n",
       "      <td>2014-04-02 14:35:51.105000+00:00</td>\n",
       "      <td>214716937</td>\n",
       "      <td>2198</td>\n",
       "      <td>1</td>\n",
       "      <td>2</td>\n",
       "    </tr>\n",
       "    <tr>\n",
       "      <th>9021</th>\n",
       "      <td>428198</td>\n",
       "      <td>2014-04-02 14:35:51.134000+00:00</td>\n",
       "      <td>214716971</td>\n",
       "      <td>1988</td>\n",
       "      <td>2</td>\n",
       "      <td>2</td>\n",
       "    </tr>\n",
       "    <tr>\n",
       "      <th>9022</th>\n",
       "      <td>428198</td>\n",
       "      <td>2014-04-02 14:35:52.156000+00:00</td>\n",
       "      <td>214716937</td>\n",
       "      <td>2198</td>\n",
       "      <td>1</td>\n",
       "      <td>2</td>\n",
       "    </tr>\n",
       "    <tr>\n",
       "      <th>...</th>\n",
       "      <td>...</td>\n",
       "      <td>...</td>\n",
       "      <td>...</td>\n",
       "      <td>...</td>\n",
       "      <td>...</td>\n",
       "      <td>...</td>\n",
       "    </tr>\n",
       "    <tr>\n",
       "      <th>9147</th>\n",
       "      <td>428198</td>\n",
       "      <td>2014-04-02 14:42:33.804000+00:00</td>\n",
       "      <td>214716971</td>\n",
       "      <td>2198</td>\n",
       "      <td>2</td>\n",
       "      <td>2</td>\n",
       "    </tr>\n",
       "    <tr>\n",
       "      <th>9148</th>\n",
       "      <td>428198</td>\n",
       "      <td>2014-04-02 14:42:34.230000+00:00</td>\n",
       "      <td>214716937</td>\n",
       "      <td>2198</td>\n",
       "      <td>1</td>\n",
       "      <td>2</td>\n",
       "    </tr>\n",
       "    <tr>\n",
       "      <th>9149</th>\n",
       "      <td>428198</td>\n",
       "      <td>2014-04-02 14:42:34.236000+00:00</td>\n",
       "      <td>214716937</td>\n",
       "      <td>1360</td>\n",
       "      <td>1</td>\n",
       "      <td>2</td>\n",
       "    </tr>\n",
       "    <tr>\n",
       "      <th>9150</th>\n",
       "      <td>428198</td>\n",
       "      <td>2014-04-02 14:42:34.238000+00:00</td>\n",
       "      <td>214716971</td>\n",
       "      <td>1988</td>\n",
       "      <td>2</td>\n",
       "      <td>2</td>\n",
       "    </tr>\n",
       "    <tr>\n",
       "      <th>9151</th>\n",
       "      <td>428198</td>\n",
       "      <td>2014-04-02 14:42:34.251000+00:00</td>\n",
       "      <td>214716971</td>\n",
       "      <td>2198</td>\n",
       "      <td>2</td>\n",
       "      <td>2</td>\n",
       "    </tr>\n",
       "  </tbody>\n",
       "</table>\n",
       "<p>72 rows × 6 columns</p>\n",
       "</div>"
      ],
      "text/plain": [
       "      session                         timestamp       item  price  qty  \\\n",
       "9018   428198  2014-04-02 14:35:51.073000+00:00  214716937   1360    1   \n",
       "9019   428198  2014-04-02 14:35:51.095000+00:00  214716971   2198    2   \n",
       "9020   428198  2014-04-02 14:35:51.105000+00:00  214716937   2198    1   \n",
       "9021   428198  2014-04-02 14:35:51.134000+00:00  214716971   1988    2   \n",
       "9022   428198  2014-04-02 14:35:52.156000+00:00  214716937   2198    1   \n",
       "...       ...                               ...        ...    ...  ...   \n",
       "9147   428198  2014-04-02 14:42:33.804000+00:00  214716971   2198    2   \n",
       "9148   428198  2014-04-02 14:42:34.230000+00:00  214716937   2198    1   \n",
       "9149   428198  2014-04-02 14:42:34.236000+00:00  214716937   1360    1   \n",
       "9150   428198  2014-04-02 14:42:34.238000+00:00  214716971   1988    2   \n",
       "9151   428198  2014-04-02 14:42:34.251000+00:00  214716971   2198    2   \n",
       "\n",
       "      weekday  \n",
       "9018        2  \n",
       "9019        2  \n",
       "9020        2  \n",
       "9021        2  \n",
       "9022        2  \n",
       "...       ...  \n",
       "9147        2  \n",
       "9148        2  \n",
       "9149        2  \n",
       "9150        2  \n",
       "9151        2  \n",
       "\n",
       "[72 rows x 6 columns]"
      ]
     },
     "execution_count": 29,
     "metadata": {},
     "output_type": "execute_result"
    }
   ],
   "source": [
    "buy_df.loc[buy_df.session==428198] # 장바구니에 담아두고 한번에 구매한듯"
   ]
  }
 ],
 "metadata": {
  "kernelspec": {
   "display_name": "Python 3",
   "language": "python",
   "name": "python3"
  },
  "language_info": {
   "codemirror_mode": {
    "name": "ipython",
    "version": 3
   },
   "file_extension": ".py",
   "mimetype": "text/x-python",
   "name": "python",
   "nbconvert_exporter": "python",
   "pygments_lexer": "ipython3",
   "version": "3.8.8"
  }
 },
 "nbformat": 4,
 "nbformat_minor": 5
}
